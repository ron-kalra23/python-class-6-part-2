{
 "cells": [
  {
   "cell_type": "code",
   "execution_count": 7,
   "id": "bb7f4d14",
   "metadata": {},
   "outputs": [
    {
     "name": "stdout",
     "output_type": "stream",
     "text": [
      "enter your name =rohan\n",
      "enter your lastname =kalra\n",
      "enter your city=bhiwani\n",
      "enter your user_id=ron123\n",
      "enter your password=1234\n",
      "enter your phone no=8295237534\n"
     ]
    }
   ],
   "source": [
    "class Account:                         #class always starts from upper case.\n",
    "    def __init__(self,name = input('enter your name ='),\n",
    "                      last_name = input('enter your lastname ='),\n",
    "                      city      = input('enter your city='),\n",
    "                      user_id   = input('enter your user_id='),\n",
    "                      password   = input('enter your password='),\n",
    "                      phone      = input('enter your phone no=')):\n",
    "        self.name = name               #data initislizing\n",
    "        self.last_name = last_name\n",
    "        self.city = city\n",
    "        self.user_id = user_id\n",
    "        self.password= password\n",
    "        self.phone = phone\n",
    "        \n",
    "    def login(self):            \n",
    "        while True:\n",
    "            signin = input('user_id-')\n",
    "            password = input('password')\n",
    "            if signin == self.user_id and password == self.password:\n",
    "                print('successfully logged in ')\n",
    "                break\n",
    "            else:\n",
    "                print('please try again user id or password is invalid')\n",
    "                continue\n",
    "            "
   ]
  },
  {
   "cell_type": "code",
   "execution_count": 9,
   "id": "289ae648",
   "metadata": {},
   "outputs": [],
   "source": [
    "bank = Account()   #we create an object and give class(Account) to this object."
   ]
  },
  {
   "cell_type": "raw",
   "id": "03d0710a",
   "metadata": {},
   "source": [
    "bank.login  #here bank is object for class Account."
   ]
  },
  {
   "cell_type": "code",
   "execution_count": 11,
   "id": "780b2475",
   "metadata": {},
   "outputs": [
    {
     "name": "stdout",
     "output_type": "stream",
     "text": [
      "user_id-ron123\n",
      "password123\n",
      "please try again user id or password is invalid\n",
      "user_id-ron123\n",
      "password1234\n",
      "successfully logged in \n"
     ]
    }
   ],
   "source": [
    "#calling method\n",
    "bank.login()     #object.method is syntax for calling of method"
   ]
  },
  {
   "cell_type": "markdown",
   "id": "7ae1aea9",
   "metadata": {},
   "source": [
    "# inheritance:\n",
    "                     used to combine behaviour of previous class to a new one.To join a previous class with a new one is known as inheritance.for example if we join our previous class Accounts with new class User_account then it will will be known as inheritance. Now the data of class will come under new class User_Account."
   ]
  },
  {
   "cell_type": "code",
   "execution_count": null,
   "id": "3b824d6e",
   "metadata": {},
   "outputs": [],
   "source": [
    "class User_Account(Account):\n",
    "    def __init__(self,acc_number,balance,*args):\n",
    "        super(User_Account, self).__init__(*args)\n",
    "        self.acc_number = acc_number\n",
    "        self.balance = balance\n",
    "        \n",
    "    def user_details(self):\n",
    "        while True:\n",
    "            account = int(input('enter your account no='))\n",
    "            if account == self.acc_number:\n",
    "                print('name =',  self.name)\n",
    "                print('account no =', self.acc_number)\n",
    "                print('your balance =' ,self.balance)\n",
    "                break\n",
    "            else:\n",
    "                print('account number is not valid')\n",
    "                continue\n",
    "                \n",
    "    def deposit(self):\n",
    "        print('your account balance =' , self.balance)\n",
    "        add_cash = int(input('deposit cash ='))\n",
    "        self.balance += add_cash\n",
    "        print('\\n HDFC Bank:Rs' , add_cash , 'deposited in your account' , self.acc_number,'and your current balance is ' , self.balance)\n",
    "        \n",
    "        \n",
    "    def transfer(self):\n",
    "        print('your previous balance is =' , self.balance)\n",
    "        withdraw = int(input('how much money you want to transfer'))\n",
    "        if withdraw <= self.balance:\n",
    "            self.balance -= withdraw\n",
    "            print('\\n HDFC Bank : Rs' , withdrawn,' your bank account no' , self.acc_number ,'and your current balance is ', self.balance)"
   ]
  },
  {
   "cell_type": "code",
   "execution_count": null,
   "id": "4dc84bfb",
   "metadata": {},
   "outputs": [],
   "source": [
    "# giving an object to our class .\n",
    "bank_details = User_Account(55555, 0)"
   ]
  },
  {
   "cell_type": "code",
   "execution_count": null,
   "id": "b1c3d84f",
   "metadata": {},
   "outputs": [],
   "source": [
    "bank_details.deposit()"
   ]
  },
  {
   "cell_type": "code",
   "execution_count": null,
   "id": "ed0755a8",
   "metadata": {},
   "outputs": [],
   "source": [
    "bank_details.transfer()"
   ]
  },
  {
   "cell_type": "code",
   "execution_count": null,
   "id": "36da75f4",
   "metadata": {},
   "outputs": [],
   "source": [
    "bank_details.deposit()"
   ]
  },
  {
   "cell_type": "code",
   "execution_count": null,
   "id": "f9d93710",
   "metadata": {},
   "outputs": [],
   "source": [
    "class User_Account(Account):\n",
    "    def __init__(self,acc_number,balance,*args):\n",
    "        super(User_Account, self).__init__(*args)\n",
    "        self.acc_number = acc_number\n",
    "        self.balance = balance\n",
    "        \n",
    "    def user_details(self):\n",
    "        while True:\n",
    "            account = int(input('enter your account no='))\n",
    "            if account == self.acc_number:\n",
    "                print('name =',  self.name)\n",
    "                print('account no =', self.acc_number)\n",
    "                print('your balance =' ,self.balance)\n",
    "                break\n",
    "            else:\n",
    "                print('account number is not valid')\n",
    "                continue\n",
    "                \n",
    "    def deposit(self):\n",
    "        print('your account balance =' , self.balance)\n",
    "        add_cash = int(input('deposit cash ='))\n",
    "        self.balance += add_cash\n",
    "        print('\\n HDFC Bank:Rs' , add_cash , 'deposited in your account' , self.acc_number,'and your current balance is ' , self.balance)\n",
    "        \n",
    "        \n",
    "    def transfer(self):\n",
    "        print('your previous balance is =' , self.balance)\n",
    "        withdraw = int(input('how much money you want to transfer'))\n",
    "        if withdraw <= self.balance:\n",
    "            self.balance -= withdraw\n",
    "            print('\\n HDFC Bank : Rs' , withdrawn,' your bank account no' , self.acc_number ,'and your current balance is ', self.balance)"
   ]
  },
  {
   "cell_type": "code",
   "execution_count": null,
   "id": "f3c88e88",
   "metadata": {},
   "outputs": [],
   "source": [
    "#giving object to class User_Account\n",
    "bank_details = User_Account(55555 , 0)"
   ]
  },
  {
   "cell_type": "code",
   "execution_count": null,
   "id": "065cda0e",
   "metadata": {},
   "outputs": [],
   "source": [
    "bank_details.deposit()"
   ]
  },
  {
   "cell_type": "code",
   "execution_count": null,
   "id": "35a76541",
   "metadata": {},
   "outputs": [],
   "source": [
    "bank_details.transfer()"
   ]
  },
  {
   "cell_type": "code",
   "execution_count": null,
   "id": "478e049b",
   "metadata": {},
   "outputs": [],
   "source": []
  }
 ],
 "metadata": {
  "kernelspec": {
   "display_name": "Python 3 (ipykernel)",
   "language": "python",
   "name": "python3"
  },
  "language_info": {
   "codemirror_mode": {
    "name": "ipython",
    "version": 3
   },
   "file_extension": ".py",
   "mimetype": "text/x-python",
   "name": "python",
   "nbconvert_exporter": "python",
   "pygments_lexer": "ipython3",
   "version": "3.9.13"
  }
 },
 "nbformat": 4,
 "nbformat_minor": 5
}
